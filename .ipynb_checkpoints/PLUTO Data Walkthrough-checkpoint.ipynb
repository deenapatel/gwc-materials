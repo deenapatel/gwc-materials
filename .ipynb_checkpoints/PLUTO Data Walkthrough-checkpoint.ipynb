{
 "cells": [
  {
   "cell_type": "markdown",
   "metadata": {},
   "source": [
    "## Getting the data\n",
    "\n",
    "The `PLUTO dataset` is distributed online by the New York City Department of City Planning as a part of its \"Bytes of the Big Apple\" platform. You can visit the page [here](http://www1.nyc.gov/site/planning/data-maps/open-data.page), or download the data directly [here](www1.nyc.gov/assets/planning/download/zip/data-maps/open-data/nyc_pluto_16v1.zip). Then unzip the data locally&mdash;to keep things tidy I did this in the `data/` subdirectory."
   ]
  },
  {
   "cell_type": "code",
   "execution_count": null,
   "metadata": {
    "collapsed": false
   },
   "outputs": [],
   "source": [
    "%ls data"
   ]
  },
  {
   "cell_type": "markdown",
   "metadata": {},
   "source": [
    "The `CSV` files here, one for each borough, are the components of the PLUTO dataset. The `PDF` files are support files&mdash;so-called data dictionaries explaning how the data was generated and what it means:"
   ]
  },
  {
   "cell_type": "code",
   "execution_count": null,
   "metadata": {
    "collapsed": false
   },
   "outputs": [],
   "source": [
    "from IPython.display import Image\n",
    "\n",
    "Image(\"figures/PLUTO Data Dictionary Screen Grab.png\")"
   ]
  },
  {
   "cell_type": "markdown",
   "metadata": {},
   "source": [
    "`CSV` is short for \"comma-seperated values\", and is a popular and very simple format for storing data, where each entry is seperated by commas.\n",
    "\n",
    "Every programming language has a utility for reading `CSV` data. In scientific Python that's the `pandas` library (most often shortened to `pd` in practice):"
   ]
  },
  {
   "cell_type": "code",
   "execution_count": null,
   "metadata": {
    "collapsed": false
   },
   "outputs": [],
   "source": [
    "import pandas as pd\n",
    "\n",
    "manhattan = pd.read_csv(\"data/MN.csv\")"
   ]
  },
  {
   "cell_type": "code",
   "execution_count": null,
   "metadata": {
    "collapsed": true
   },
   "outputs": [],
   "source": [
    "# r = requests.get('http://www1.nyc.gov/assets/planning/download/zip/data-maps/open-data/nyc_pluto_16v1.zip')\n",
    "# pluto_filenames = ['MN.csv', 'BK.csv', 'BX.csv', 'SI.csv', 'QN.csv']\n",
    "\n",
    "# pluto_data = dict()\n",
    "# for filename in pluto_filenames:\n",
    "#     with zipfile.ZipFile(io.BytesIO(r.content)) as ar:\n",
    "#         with open(filename, \"w\") as f:\n",
    "#             f.write(ar.open(filename))"
   ]
  },
  {
   "cell_type": "code",
   "execution_count": null,
   "metadata": {
    "collapsed": false
   },
   "outputs": [],
   "source": [
    "manhattan.head(5)"
   ]
  },
  {
   "cell_type": "markdown",
   "metadata": {},
   "source": [
    "(toggling on an option to add more entries to the display)"
   ]
  },
  {
   "cell_type": "code",
   "execution_count": null,
   "metadata": {
    "collapsed": false
   },
   "outputs": [],
   "source": [
    "pd.set_option(\"max_columns\", 100)\n",
    "manhattan.sample(5)"
   ]
  },
  {
   "cell_type": "markdown",
   "metadata": {},
   "source": [
    "These elements of the dataset are all things you can study!"
   ]
  },
  {
   "cell_type": "code",
   "execution_count": null,
   "metadata": {
    "collapsed": false
   },
   "outputs": [],
   "source": [
    "manhattan.columns"
   ]
  },
  {
   "cell_type": "markdown",
   "metadata": {},
   "source": [
    "## Exercise: Counting buildings\n",
    "\n",
    "As a simple exercise, let's take a look at which borough has what number of buildings.\n",
    "\n",
    "Renowned Manhattan Project scientist Enrico Fermi famously loved to ask his physics students at UChicago to count seemingly nonsensical things&mdash;an exercise in creative thinking now best known as a \"Fermi approximation problem\" (heads up, Microsoft *loves* to ask these questions on interviews!). One particularly famous variant asked: how many piano tuners are there in the city of Chicago?\n",
    "\n",
    "We challenge you to try it out yourself. Without any outside help, try to guess the answer to the following question: how many buildings are there in Manhattan? Group up and thinking about it!\n",
    "\n",
    "Bous question: which borough has the most buildings?"
   ]
  },
  {
   "cell_type": "markdown",
   "metadata": {},
   "source": [
    "### Answer"
   ]
  },
  {
   "cell_type": "markdown",
   "metadata": {},
   "source": [
    "This information is encoded on a lot level in the `NumBuildings` attribute of the PLUTO dataset; if we extract this column and sum across it we can get an answer!"
   ]
  },
  {
   "cell_type": "code",
   "execution_count": null,
   "metadata": {
    "collapsed": false,
    "scrolled": false
   },
   "outputs": [],
   "source": [
    "manhattan['NumBldgs']"
   ]
  },
  {
   "cell_type": "code",
   "execution_count": null,
   "metadata": {
    "collapsed": false
   },
   "outputs": [],
   "source": [
    "sum(manhattan['NumBldgs'])"
   ]
  },
  {
   "cell_type": "code",
   "execution_count": null,
   "metadata": {
    "collapsed": false
   },
   "outputs": [],
   "source": [
    "brooklyn = pd.read_csv(\"data/BK.csv\")\n",
    "queens = pd.read_csv(\"data/QN.csv\")\n",
    "bronx = pd.read_csv(\"data/BX.csv\")\n",
    "staten_island = pd.read_csv(\"data/SI.csv\")"
   ]
  },
  {
   "cell_type": "code",
   "execution_count": null,
   "metadata": {
    "collapsed": false
   },
   "outputs": [],
   "source": [
    "sum(brooklyn['NumBldgs'])"
   ]
  },
  {
   "cell_type": "code",
   "execution_count": null,
   "metadata": {
    "collapsed": false
   },
   "outputs": [],
   "source": [
    "sum(queens['NumBldgs'])"
   ]
  },
  {
   "cell_type": "code",
   "execution_count": null,
   "metadata": {
    "collapsed": false
   },
   "outputs": [],
   "source": [
    "sum(bronx['NumBldgs'])"
   ]
  },
  {
   "cell_type": "code",
   "execution_count": null,
   "metadata": {
    "collapsed": false
   },
   "outputs": [],
   "source": [
    "sum(staten_island['NumBldgs'])"
   ]
  },
  {
   "cell_type": "markdown",
   "metadata": {},
   "source": [
    "With a little bit more work we can get this into a neater representation, and then, from there, into a plot:"
   ]
  },
  {
   "cell_type": "code",
   "execution_count": null,
   "metadata": {
    "collapsed": true
   },
   "outputs": [],
   "source": [
    "borough_counts = pd.Series({\n",
    "                    'Manhattan': sum(manhattan['NumBldgs']),\n",
    "                    'Brooklyn': sum(brooklyn['NumBldgs']),\n",
    "                    'Bronx': sum(bronx['NumBldgs']),\n",
    "                    'Staten Island': sum(staten_island['NumBldgs']),\n",
    "                    'Queens': sum(queens['NumBldgs'])\n",
    "                 })"
   ]
  },
  {
   "cell_type": "code",
   "execution_count": null,
   "metadata": {
    "collapsed": false,
    "scrolled": true
   },
   "outputs": [],
   "source": [
    "borough_counts"
   ]
  },
  {
   "cell_type": "code",
   "execution_count": null,
   "metadata": {
    "collapsed": false
   },
   "outputs": [],
   "source": [
    "%matplotlib inline \n",
    "\n",
    "borough_counts.plot(kind='bar')"
   ]
  },
  {
   "cell_type": "markdown",
   "metadata": {},
   "source": [
    "## What about number of floors per building, for example?"
   ]
  },
  {
   "cell_type": "markdown",
   "metadata": {},
   "source": [
    "In literally one line of code:"
   ]
  },
  {
   "cell_type": "code",
   "execution_count": null,
   "metadata": {
    "collapsed": false
   },
   "outputs": [],
   "source": [
    "manhattan['NumFloors'].astype(int).value_counts().sort_index().plot(kind='barh', figsize=(10, 24), fontsize=16)"
   ]
  },
  {
   "cell_type": "code",
   "execution_count": null,
   "metadata": {
    "collapsed": false
   },
   "outputs": [],
   "source": [
    "# manhattan[manhattan['NumFloors'].isin(manhattan['NumFloors'].sort_values(ascending=False)[:5])][['Address', 'OwnerName', 'NumFloors']]"
   ]
  },
  {
   "cell_type": "markdown",
   "metadata": {},
   "source": [
    "### Going further: a look at more advanced geospatial uses of this data\n",
    "\n",
    "* Andrew Hill from the civic tech community put together a [worldwind tour](http://andrewxhill.com/cartodb-examples/scroll-story/pluto/#0)."
   ]
  }
 ],
 "metadata": {
  "kernelspec": {
   "display_name": "Python 3",
   "language": "python",
   "name": "python3"
  },
  "language_info": {
   "codemirror_mode": {
    "name": "ipython",
    "version": 3
   },
   "file_extension": ".py",
   "mimetype": "text/x-python",
   "name": "python",
   "nbconvert_exporter": "python",
   "pygments_lexer": "ipython3",
   "version": "3.5.1"
  }
 },
 "nbformat": 4,
 "nbformat_minor": 0
}
